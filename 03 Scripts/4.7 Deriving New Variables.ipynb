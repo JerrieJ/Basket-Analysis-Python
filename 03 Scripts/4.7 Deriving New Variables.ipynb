{
 "cells": [
  {
   "cell_type": "markdown",
   "id": "87a40608-de13-461d-982a-75aceea6a2c7",
   "metadata": {},
   "source": [
    "## 01. Importing Libraries"
   ]
  },
  {
   "cell_type": "code",
   "execution_count": 42,
   "id": "85053444-9f33-4300-8728-e5d332f3dc15",
   "metadata": {},
   "outputs": [],
   "source": [
    "# Import libraries\n",
    "import pandas as pd\n",
    "import numpy as np\n",
    "import os"
   ]
  },
  {
   "cell_type": "markdown",
   "id": "e87edaf0-bc62-4cd8-8873-b4e73e1d4fca",
   "metadata": {},
   "source": [
    "## 02. Importing Data"
   ]
  },
  {
   "cell_type": "code",
   "execution_count": 43,
   "id": "e8d14e3a-7a65-4553-bb46-dfc93695418a",
   "metadata": {},
   "outputs": [],
   "source": [
    "# Turn project folder path into a string \n",
    "path = r'/Users/jerriejiang/Desktop/4.0/A4_Instacart Basket Analysis/02 Data/Original Data/'"
   ]
  },
  {
   "cell_type": "code",
   "execution_count": 44,
   "id": "96b3f499-79d7-444c-b6b0-f7588b4ec863",
   "metadata": {},
   "outputs": [],
   "source": [
    "path = r'/Users/jerriejiang/Desktop/4.0/A4_Instacart Basket Analysis'"
   ]
  },
  {
   "cell_type": "code",
   "execution_count": 45,
   "id": "bfa906ed-147d-4dfe-a84a-2ce4b604b68d",
   "metadata": {},
   "outputs": [],
   "source": [
    "# Import dataset orders_products_combined.pkl\n",
    "df_ords_prods_merge = pd.read_pickle(os.path.join(path, '02 Data', 'Prepared Data', 'ords_prods_merge.pkl'))"
   ]
  },
  {
   "cell_type": "markdown",
   "id": "e1adb518-fa6f-42c7-8986-79cc02013325",
   "metadata": {},
   "source": [
    "## 03. Create 'Price_Label' column"
   ]
  },
  {
   "cell_type": "code",
   "execution_count": 46,
   "id": "7456839c-2d1e-45ea-9074-c7b74a29b057",
   "metadata": {},
   "outputs": [],
   "source": [
    "# Create a subset of the first million rows\n",
    "\n",
    "df = ords_prods_merge[:1000000]"
   ]
  },
  {
   "cell_type": "code",
   "execution_count": 47,
   "id": "82e4fec7-f338-4864-ab62-6bf7ee7cc417",
   "metadata": {},
   "outputs": [],
   "source": [
    "def price_label(row):\n",
    "\n",
    "  if row['prices'] <= 5:\n",
    "    return 'Low-range product'\n",
    "  elif (row['prices'] > 5) and (row['prices'] <= 15):\n",
    "    return 'Mid-range product'\n",
    "  elif row['prices'] > 15:\n",
    "    return 'High range'\n",
    "  else: return 'Not enough data'"
   ]
  },
  {
   "cell_type": "code",
   "execution_count": 48,
   "id": "da46fd72-959c-425f-8693-840af20577f3",
   "metadata": {},
   "outputs": [
    {
     "name": "stderr",
     "output_type": "stream",
     "text": [
      "/tmp/ipykernel_75209/2848743372.py:1: SettingWithCopyWarning: \n",
      "A value is trying to be set on a copy of a slice from a DataFrame.\n",
      "Try using .loc[row_indexer,col_indexer] = value instead\n",
      "\n",
      "See the caveats in the documentation: https://pandas.pydata.org/pandas-docs/stable/user_guide/indexing.html#returning-a-view-versus-a-copy\n",
      "  df['price_range'] = df.apply(price_label, axis=1)\n"
     ]
    }
   ],
   "source": [
    "df['price_range'] = df.apply(price_label, axis=1)"
   ]
  },
  {
   "cell_type": "code",
   "execution_count": 49,
   "id": "211c62b9-eb67-4521-a432-cd58339b473d",
   "metadata": {},
   "outputs": [
    {
     "data": {
      "text/plain": [
       "price_range\n",
       "Mid-range product    652638\n",
       "Low-range product    338018\n",
       "High range             9344\n",
       "Name: count, dtype: int64"
      ]
     },
     "execution_count": 49,
     "metadata": {},
     "output_type": "execute_result"
    }
   ],
   "source": [
    "df['price_range'].value_counts(dropna = False)"
   ]
  },
  {
   "cell_type": "code",
   "execution_count": 50,
   "id": "a4cf42e8-3ca9-4ffa-90ff-a23dca840dd7",
   "metadata": {},
   "outputs": [
    {
     "data": {
      "text/plain": [
       "24.5"
      ]
     },
     "execution_count": 50,
     "metadata": {},
     "output_type": "execute_result"
    }
   ],
   "source": [
    "# Find most expensive product\n",
    "\n",
    "df['prices'].max()"
   ]
  },
  {
   "cell_type": "code",
   "execution_count": 71,
   "id": "d7c27e22-c3b6-4930-aca2-f57c1b5bcfb1",
   "metadata": {},
   "outputs": [],
   "source": [
    "# Use loc.() method on df subset to apply the price range function\n",
    "\n",
    "df.loc[df['prices'] > 15, 'price_range_loc'] = 'High-range product'"
   ]
  },
  {
   "cell_type": "code",
   "execution_count": 72,
   "id": "e8750c34-a2e6-4c95-9117-400439fa117e",
   "metadata": {},
   "outputs": [],
   "source": [
    "df.loc[(df['prices'] <= 15) & (df['prices'] > 5), 'price_range_loc'] = 'Mid-range product'"
   ]
  },
  {
   "cell_type": "code",
   "execution_count": 73,
   "id": "7c6c3aec-3da2-4097-838a-e33c57ee2c46",
   "metadata": {},
   "outputs": [],
   "source": [
    "df.loc[df['prices'] <= 5, 'price_range_loc'] = 'Low-range product'"
   ]
  },
  {
   "cell_type": "code",
   "execution_count": 74,
   "id": "652f37ee-40ff-4fec-889d-ac2608724823",
   "metadata": {},
   "outputs": [
    {
     "data": {
      "text/plain": [
       "price_range_loc\n",
       "Mid-range product     652638\n",
       "Low-range product     338018\n",
       "High-range product      9344\n",
       "Name: count, dtype: int64"
      ]
     },
     "execution_count": 74,
     "metadata": {},
     "output_type": "execute_result"
    }
   ],
   "source": [
    "df['price_range_loc'].value_counts(dropna = False)"
   ]
  },
  {
   "cell_type": "code",
   "execution_count": 75,
   "id": "3473f798-050d-4661-8c4a-5e434ce03ff3",
   "metadata": {},
   "outputs": [],
   "source": [
    "# Use loc() method on entire ords_prods_merge dataframe to apply price range function.\n",
    "\n",
    "df_ords_prods_merge.loc[df_ords_prods_merge['prices'] > 15, 'price_range_loc'] = 'High-range product'"
   ]
  },
  {
   "cell_type": "code",
   "execution_count": 76,
   "id": "b5d8210a-8840-4810-a565-c3e9466d0004",
   "metadata": {},
   "outputs": [],
   "source": [
    "df_ords_prods_merge.loc[(df_ords_prods_merge['prices'] <= 15) & (df_ords_prods_merge['prices'] > 5), 'price_range_loc'] = 'Mid-range product'"
   ]
  },
  {
   "cell_type": "code",
   "execution_count": 77,
   "id": "563e517d-ac94-4260-b304-8cf0266b43c5",
   "metadata": {},
   "outputs": [],
   "source": [
    "df_ords_prods_merge.loc[df_ords_prods_merge['prices'] <= 5, 'price_range_loc'] = 'Low-range product'"
   ]
  },
  {
   "cell_type": "code",
   "execution_count": 78,
   "id": "f4d4a3e5-88ba-46fa-8237-12f6d38e53a0",
   "metadata": {},
   "outputs": [
    {
     "data": {
      "text/plain": [
       "price_range_loc\n",
       "Mid-range product     21860860\n",
       "Low-range product     10126321\n",
       "High-range product      417678\n",
       "Name: count, dtype: int64"
      ]
     },
     "execution_count": 78,
     "metadata": {},
     "output_type": "execute_result"
    }
   ],
   "source": [
    "df_ords_prods_merge['price_range_loc'].value_counts(dropna = False)"
   ]
  },
  {
   "cell_type": "markdown",
   "id": "9e051719-1ab6-455c-a74c-d9860f2fa275",
   "metadata": {},
   "source": [
    "### 4. Create 'busiest_day' Column"
   ]
  },
  {
   "cell_type": "code",
   "execution_count": 79,
   "id": "06adf6cb-b7ea-4c50-ae72-0f81fa1f1e57",
   "metadata": {},
   "outputs": [],
   "source": [
    "# Change \"order_dow\" column name to \"order_day_of_week.\"\n",
    "\n",
    "df_ords_prods_merge.rename(columns = {'order_dow' : 'orders_day_of_week'}, inplace = True)"
   ]
  },
  {
   "cell_type": "code",
   "execution_count": 80,
   "id": "ca5e10eb-9eda-4b18-bada-bfc702dd80c9",
   "metadata": {},
   "outputs": [
    {
     "data": {
      "text/plain": [
       "orders_day_of_week\n",
       "0    6204182\n",
       "1    5660230\n",
       "6    4496490\n",
       "2    4213830\n",
       "5    4205791\n",
       "3    3840534\n",
       "4    3783802\n",
       "Name: count, dtype: int64"
      ]
     },
     "execution_count": 80,
     "metadata": {},
     "output_type": "execute_result"
    }
   ],
   "source": [
    "# Find frequency of orders_day_of_week.\n",
    "\n",
    "df_ords_prods_merge['orders_day_of_week'].value_counts(dropna = False)"
   ]
  },
  {
   "cell_type": "code",
   "execution_count": 81,
   "id": "a562715f-d4f0-4505-94fa-10816521d5fc",
   "metadata": {},
   "outputs": [],
   "source": [
    "# Use for-loop to determine whether orders are on \"busiest day\" (0 = Saturday), \"least busy\" (4 = Wednesday), or \"regularly busy\" (other days of the week).\n",
    "\n",
    "result = []\n",
    "\n",
    "for value in df_ords_prods_merge[\"orders_day_of_week\"]:\n",
    "  if value == 0:\n",
    "    result.append(\"Busiest day\")\n",
    "  elif value == 4:\n",
    "    result.append(\"Least busy\")\n",
    "  else:\n",
    "    result.append(\"Regularly busy\")"
   ]
  },
  {
   "cell_type": "code",
   "execution_count": 82,
   "id": "437b98ce-a395-4656-9fe7-3b963ed3c54b",
   "metadata": {},
   "outputs": [],
   "source": [
    "# Create a new column in ords_prods_merge \n",
    "\n",
    "df_ords_prods_merge['busiest_day'] = result"
   ]
  },
  {
   "cell_type": "code",
   "execution_count": 83,
   "id": "a2aae4c8-cdea-472d-bd37-336799f32f18",
   "metadata": {},
   "outputs": [
    {
     "data": {
      "text/plain": [
       "busiest_day\n",
       "Regularly busy    22416875\n",
       "Busiest day        6204182\n",
       "Least busy         3783802\n",
       "Name: count, dtype: int64"
      ]
     },
     "execution_count": 83,
     "metadata": {},
     "output_type": "execute_result"
    }
   ],
   "source": [
    "df_ords_prods_merge['busiest_day'].value_counts(dropna = False)"
   ]
  },
  {
   "cell_type": "markdown",
   "id": "0fa3a8b4-5fc7-4a33-97a5-0275517254c4",
   "metadata": {},
   "source": [
    "### 5. Update the \"busiest day\" column to \"busiest days\""
   ]
  },
  {
   "cell_type": "code",
   "execution_count": 64,
   "id": "885a08e2-732c-47d5-88c1-c20a5c14a325",
   "metadata": {},
   "outputs": [],
   "source": [
    "# Create column “busiest_days\" from \"orders_day_of_week\" to identify two busiest days (0, 1), slowest days (4, 3), or regularly busy (all other days).\n",
    "\n",
    "result_2 = []\n",
    "\n",
    "for value in df_ords_prods_merge[\"orders_day_of_week\"]:\n",
    "  if value == 0 or value == 1:\n",
    "    result_2.append(\"Busiest days\")\n",
    "  elif value == 4 or value == 3:\n",
    "    result_2.append(\"Slowest days\")\n",
    "  else:\n",
    "    result_2.append(\"Regularly busy\")"
   ]
  },
  {
   "cell_type": "markdown",
   "id": "b811d877-a64f-4c59-80a8-ddbbae47eb43",
   "metadata": {},
   "source": [
    "### 6. Check values of new \"busiest days\" column"
   ]
  },
  {
   "cell_type": "code",
   "execution_count": 70,
   "id": "dd0d3c24-f196-493a-ad86-7e3155c32d69",
   "metadata": {},
   "outputs": [],
   "source": [
    "## Create new 'busiest_days' column in ords_prods_merge to view results\n",
    "\n",
    "df_ords_prods_merge['busiest_days'] = result_2"
   ]
  },
  {
   "cell_type": "code",
   "execution_count": 66,
   "id": "789507de-a608-4437-a861-1798f9ee601a",
   "metadata": {},
   "outputs": [
    {
     "data": {
      "text/plain": [
       "busiest_days\n",
       "Regularly busy    12916111\n",
       "Busiest days      11864412\n",
       "Slowest days       7624336\n",
       "Name: count, dtype: int64"
      ]
     },
     "execution_count": 66,
     "metadata": {},
     "output_type": "execute_result"
    }
   ],
   "source": [
    "df_ords_prods_merge['busiest_days'].value_counts(dropna = False)"
   ]
  },
  {
   "cell_type": "code",
   "execution_count": 67,
   "id": "d677b68a-390e-4d06-9569-ae4c7876481c",
   "metadata": {},
   "outputs": [
    {
     "data": {
      "text/html": [
       "<div>\n",
       "<style scoped>\n",
       "    .dataframe tbody tr th:only-of-type {\n",
       "        vertical-align: middle;\n",
       "    }\n",
       "\n",
       "    .dataframe tbody tr th {\n",
       "        vertical-align: top;\n",
       "    }\n",
       "\n",
       "    .dataframe thead th {\n",
       "        text-align: right;\n",
       "    }\n",
       "</style>\n",
       "<table border=\"1\" class=\"dataframe\">\n",
       "  <thead>\n",
       "    <tr style=\"text-align: right;\">\n",
       "      <th></th>\n",
       "      <th>product_id</th>\n",
       "      <th>product_name</th>\n",
       "      <th>aisle_id</th>\n",
       "      <th>department_id</th>\n",
       "      <th>prices</th>\n",
       "      <th>Unnamed: 0</th>\n",
       "      <th>order_id</th>\n",
       "      <th>user_id</th>\n",
       "      <th>eval_set</th>\n",
       "      <th>order_number</th>\n",
       "      <th>orders_day_of_week</th>\n",
       "      <th>order_hour_of_day</th>\n",
       "      <th>days_since_prior_order</th>\n",
       "      <th>add_to_cart_order</th>\n",
       "      <th>reordered</th>\n",
       "      <th>_merge</th>\n",
       "    </tr>\n",
       "  </thead>\n",
       "  <tbody>\n",
       "    <tr>\n",
       "      <th>0</th>\n",
       "      <td>1</td>\n",
       "      <td>Chocolate Sandwich Cookies</td>\n",
       "      <td>61</td>\n",
       "      <td>19</td>\n",
       "      <td>5.8</td>\n",
       "      <td>1987</td>\n",
       "      <td>3139998</td>\n",
       "      <td>138</td>\n",
       "      <td>prior</td>\n",
       "      <td>28</td>\n",
       "      <td>6</td>\n",
       "      <td>11</td>\n",
       "      <td>3.0</td>\n",
       "      <td>5</td>\n",
       "      <td>0</td>\n",
       "      <td>both</td>\n",
       "    </tr>\n",
       "    <tr>\n",
       "      <th>1</th>\n",
       "      <td>1</td>\n",
       "      <td>Chocolate Sandwich Cookies</td>\n",
       "      <td>61</td>\n",
       "      <td>19</td>\n",
       "      <td>5.8</td>\n",
       "      <td>1989</td>\n",
       "      <td>1977647</td>\n",
       "      <td>138</td>\n",
       "      <td>prior</td>\n",
       "      <td>30</td>\n",
       "      <td>6</td>\n",
       "      <td>17</td>\n",
       "      <td>20.0</td>\n",
       "      <td>1</td>\n",
       "      <td>1</td>\n",
       "      <td>both</td>\n",
       "    </tr>\n",
       "    <tr>\n",
       "      <th>2</th>\n",
       "      <td>1</td>\n",
       "      <td>Chocolate Sandwich Cookies</td>\n",
       "      <td>61</td>\n",
       "      <td>19</td>\n",
       "      <td>5.8</td>\n",
       "      <td>11433</td>\n",
       "      <td>389851</td>\n",
       "      <td>709</td>\n",
       "      <td>prior</td>\n",
       "      <td>2</td>\n",
       "      <td>0</td>\n",
       "      <td>21</td>\n",
       "      <td>6.0</td>\n",
       "      <td>20</td>\n",
       "      <td>0</td>\n",
       "      <td>both</td>\n",
       "    </tr>\n",
       "    <tr>\n",
       "      <th>3</th>\n",
       "      <td>1</td>\n",
       "      <td>Chocolate Sandwich Cookies</td>\n",
       "      <td>61</td>\n",
       "      <td>19</td>\n",
       "      <td>5.8</td>\n",
       "      <td>12198</td>\n",
       "      <td>652770</td>\n",
       "      <td>764</td>\n",
       "      <td>prior</td>\n",
       "      <td>1</td>\n",
       "      <td>3</td>\n",
       "      <td>13</td>\n",
       "      <td>NaN</td>\n",
       "      <td>10</td>\n",
       "      <td>0</td>\n",
       "      <td>both</td>\n",
       "    </tr>\n",
       "    <tr>\n",
       "      <th>4</th>\n",
       "      <td>1</td>\n",
       "      <td>Chocolate Sandwich Cookies</td>\n",
       "      <td>61</td>\n",
       "      <td>19</td>\n",
       "      <td>5.8</td>\n",
       "      <td>12200</td>\n",
       "      <td>1813452</td>\n",
       "      <td>764</td>\n",
       "      <td>prior</td>\n",
       "      <td>3</td>\n",
       "      <td>4</td>\n",
       "      <td>17</td>\n",
       "      <td>9.0</td>\n",
       "      <td>11</td>\n",
       "      <td>1</td>\n",
       "      <td>both</td>\n",
       "    </tr>\n",
       "  </tbody>\n",
       "</table>\n",
       "</div>"
      ],
      "text/plain": [
       "   product_id                product_name  aisle_id  department_id  prices  \\\n",
       "0           1  Chocolate Sandwich Cookies        61             19     5.8   \n",
       "1           1  Chocolate Sandwich Cookies        61             19     5.8   \n",
       "2           1  Chocolate Sandwich Cookies        61             19     5.8   \n",
       "3           1  Chocolate Sandwich Cookies        61             19     5.8   \n",
       "4           1  Chocolate Sandwich Cookies        61             19     5.8   \n",
       "\n",
       "   Unnamed: 0  order_id  user_id eval_set  order_number  orders_day_of_week  \\\n",
       "0        1987   3139998      138    prior            28                   6   \n",
       "1        1989   1977647      138    prior            30                   6   \n",
       "2       11433    389851      709    prior             2                   0   \n",
       "3       12198    652770      764    prior             1                   3   \n",
       "4       12200   1813452      764    prior             3                   4   \n",
       "\n",
       "   order_hour_of_day  days_since_prior_order  add_to_cart_order  reordered  \\\n",
       "0                 11                     3.0                  5          0   \n",
       "1                 17                    20.0                  1          1   \n",
       "2                 21                     6.0                 20          0   \n",
       "3                 13                     NaN                 10          0   \n",
       "4                 17                     9.0                 11          1   \n",
       "\n",
       "  _merge  \n",
       "0   both  \n",
       "1   both  \n",
       "2   both  \n",
       "3   both  \n",
       "4   both  "
      ]
     },
     "execution_count": 67,
     "metadata": {},
     "output_type": "execute_result"
    }
   ],
   "source": [
    "# Check the output of ords_prods_merge with the new \"busiest days\" column\n",
    "\n",
    "ords_prods_merge.head()"
   ]
  },
  {
   "cell_type": "markdown",
   "id": "fecf5fb9-fd88-4c00-a82c-004f05b86343",
   "metadata": {},
   "source": [
    "#### The total value of the ords_prods_merge dataframe is the sum of all groups. "
   ]
  },
  {
   "cell_type": "markdown",
   "id": "82e8642a-02fa-44b5-a865-42ac8f073e0d",
   "metadata": {},
   "source": [
    "### 7. Create new column \"busiest_period_of_day\" to identify time periods “Most orders,” “Average orders,” and “Fewest orders.”"
   ]
  },
  {
   "cell_type": "code",
   "execution_count": 84,
   "id": "ee9b10bb-49d3-4dc5-9da9-c17e422461b4",
   "metadata": {},
   "outputs": [
    {
     "data": {
      "text/plain": [
       "order_hour_of_day\n",
       "10    2761760\n",
       "11    2736140\n",
       "14    2689136\n",
       "15    2662144\n",
       "13    2660954\n",
       "12    2618532\n",
       "16    2535202\n",
       "9     2454203\n",
       "17    2087654\n",
       "8     1718118\n",
       "18    1636502\n",
       "19    1258305\n",
       "20     976156\n",
       "7      891054\n",
       "21     795637\n",
       "22     634225\n",
       "23     402316\n",
       "6      290493\n",
       "0      218769\n",
       "1      115700\n",
       "5       87961\n",
       "2       69375\n",
       "4       53242\n",
       "3       51281\n",
       "Name: count, dtype: int64"
      ]
     },
     "execution_count": 84,
     "metadata": {},
     "output_type": "execute_result"
    }
   ],
   "source": [
    "# Check value counts in \"order_hour_of_day\" column.\n",
    "\n",
    "df_ords_prods_merge['order_hour_of_day'].value_counts()"
   ]
  },
  {
   "cell_type": "code",
   "execution_count": null,
   "id": "118e94dd-5d63-4e0f-a388-4a4f7cbe521a",
   "metadata": {},
   "outputs": [],
   "source": []
  },
  {
   "cell_type": "code",
   "execution_count": 85,
   "id": "47ea3c5f-cfcb-4c08-803b-7a2511acbb89",
   "metadata": {},
   "outputs": [],
   "source": [
    "# Create for-loop if statement labeling periods of time as “Most orders,” “Average orders,” and “Fewest orders.”\n",
    "\n",
    "result_3 = []\n",
    "\n",
    "for value in df_ords_prods_merge[\"order_hour_of_day\"]:\n",
    "  if value in [10, 11, 14, 15, 13, 12, 16, 9]:\n",
    "    result_3.append(\"Most orders\")\n",
    "  elif value in [23, 6, 0, 1, 5, 2, 4, 3]:\n",
    "    result_3.append(\"Fewest orders\")\n",
    "  else:\n",
    "    result_3.append(\"Average orders\")"
   ]
  },
  {
   "cell_type": "code",
   "execution_count": null,
   "id": "9ebb1fb4-b692-456a-b401-4fb42e156eef",
   "metadata": {},
   "outputs": [],
   "source": [
    "# Create new column \"busiest_period_of_day\" in ords_prods_merge.\n",
    "\n",
    "df_ords_prods_merge['busiest_period_of_day'] = result_3"
   ]
  },
  {
   "cell_type": "markdown",
   "id": "4285196c-598b-471d-986e-244cf1ecf05a",
   "metadata": {},
   "source": [
    "### 8. Print frequency of \"busiest_period_of_day\" column"
   ]
  },
  {
   "cell_type": "code",
   "execution_count": null,
   "id": "f3e816ec-9660-442d-951d-fc9739db8aaf",
   "metadata": {},
   "outputs": [],
   "source": [
    "# Print value counts in \"busiest_period_of_day\" column.\n",
    "\n",
    "df_ords_prods_merge['busiest_period_of_day'].value_counts(dropna = False)"
   ]
  },
  {
   "cell_type": "markdown",
   "id": "7fe3cddf-6063-42dc-9fc0-729f8e3288f2",
   "metadata": {},
   "source": [
    "### 9. Export dataframe as a pickle file to “Prepared Data” folder."
   ]
  },
  {
   "cell_type": "code",
   "execution_count": null,
   "id": "a6ec4509-1296-4371-8d7e-94744da24b76",
   "metadata": {},
   "outputs": [],
   "source": [
    "df_ords_prods_merge.to_pickle(os.path.join(path, '02 Data', 'Prepared Data', 'orders_products_merged_derived.pkl'))"
   ]
  },
  {
   "cell_type": "code",
   "execution_count": null,
   "id": "e5db1780-f41a-4dfb-9386-ba63b65e7daa",
   "metadata": {},
   "outputs": [],
   "source": []
  }
 ],
 "metadata": {
  "kernelspec": {
   "display_name": "Python 3 (ipykernel)",
   "language": "python",
   "name": "python3"
  },
  "language_info": {
   "codemirror_mode": {
    "name": "ipython",
    "version": 3
   },
   "file_extension": ".py",
   "mimetype": "text/x-python",
   "name": "python",
   "nbconvert_exporter": "python",
   "pygments_lexer": "ipython3",
   "version": "3.11.7"
  }
 },
 "nbformat": 4,
 "nbformat_minor": 5
}
