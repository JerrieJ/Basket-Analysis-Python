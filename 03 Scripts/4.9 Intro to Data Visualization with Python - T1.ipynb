{
 "cells": [
  {
   "cell_type": "markdown",
   "id": "f3dd9b16-c2f3-4cde-9938-2e1a2df0306d",
   "metadata": {},
   "source": [
    "## 01. Importing Libraries¶"
   ]
  },
  {
   "cell_type": "code",
   "execution_count": null,
   "id": "0fb99239-5604-48e8-8ab8-581791102641",
   "metadata": {},
   "outputs": [],
   "source": [
    "# Import libraries\n",
    "import pandas as pd\n",
    "import numpy as np\n",
    "import os\n",
    "import matplotlib.pyplot as plt\n",
    "import seaborn as sns\n",
    "import scipy"
   ]
  },
  {
   "cell_type": "markdown",
   "id": "be8f758e-5bb8-4182-89a7-f2e886f43d9f",
   "metadata": {},
   "source": [
    "## 02. Importing Data"
   ]
  },
  {
   "cell_type": "code",
   "execution_count": null,
   "id": "38666ab9-bc80-48c9-86bb-3f4153a3944f",
   "metadata": {},
   "outputs": [],
   "source": [
    "# Set path \n",
    "path = r'/Users/jerriejiang/Desktop/4.0/A4_Instacart Basket Analysis/02 Data/Original Data/'"
   ]
  },
  {
   "cell_type": "code",
   "execution_count": null,
   "id": "dae73506-aea2-4a83-9c5f-ccecaabd0bc8",
   "metadata": {},
   "outputs": [],
   "source": [
    "path = r'/Users/jerriejiang/Desktop/4.0/A4_Instacart Basket Analysis'"
   ]
  },
  {
   "cell_type": "code",
   "execution_count": null,
   "id": "7dce6dd7-ebb3-43c4-b05c-602d91cd3858",
   "metadata": {},
   "outputs": [],
   "source": [
    "# Import new customer data set from the 'Original Data' folder as a dataframe\n",
    "customers = pd.read_csv(os.path.join(path, '02 Data', 'Original Data', 'customers.csv'))"
   ]
  },
  {
   "cell_type": "code",
   "execution_count": null,
   "id": "49f2f055-33f0-444d-b343-61878dbf485f",
   "metadata": {},
   "outputs": [],
   "source": [
    "# Preview the newly imported dataframe \n",
    "customers.head(10)"
   ]
  },
  {
   "cell_type": "code",
   "execution_count": null,
   "id": "ad4ae369-b605-4c6e-8630-9086ed1480c9",
   "metadata": {},
   "outputs": [],
   "source": [
    "# Check the dimensions of the dataframe\n",
    "customers.shape"
   ]
  },
  {
   "cell_type": "code",
   "execution_count": null,
   "id": "1130dff9-cfc0-4639-86a8-0b0f78bd44e6",
   "metadata": {},
   "outputs": [],
   "source": [
    "# View descriptive statistics \n",
    "customers.describe()"
   ]
  },
  {
   "cell_type": "code",
   "execution_count": null,
   "id": "d2a04d42-23fa-4bc6-876d-95092d80217e",
   "metadata": {},
   "outputs": [],
   "source": [
    "# Check data types\n",
    "customers.dtypes"
   ]
  },
  {
   "cell_type": "markdown",
   "id": "817aaa94-d2a1-4604-89dc-fe0e11f0a6d1",
   "metadata": {},
   "source": [
    "## [Part 1] Task"
   ]
  },
  {
   "cell_type": "markdown",
   "id": "188b89b8-9496-4340-aa9e-6b7224df5b50",
   "metadata": {},
   "source": [
    "### 04. Wrangle the data so that it follows consistent logic"
   ]
  },
  {
   "cell_type": "code",
   "execution_count": null,
   "id": "63358e25-5981-4d6c-b3fc-b34f3409a0e0",
   "metadata": {},
   "outputs": [],
   "source": [
    "# Rename the columns to establish uniformity\n",
    "customers.rename(columns = {'First Name' : 'first_name'}, inplace = True)"
   ]
  },
  {
   "cell_type": "code",
   "execution_count": null,
   "id": "927d3aee-a177-4a71-9fe6-bf1afc3907bf",
   "metadata": {},
   "outputs": [],
   "source": [
    "customers.rename(columns = {'Surnam' : 'surname'}, inplace = True)"
   ]
  },
  {
   "cell_type": "code",
   "execution_count": null,
   "id": "732b63fe-3b87-46a4-af65-c9cf179ce736",
   "metadata": {},
   "outputs": [],
   "source": [
    "customers.rename(columns = {'Gender' : 'gender'}, inplace = True)"
   ]
  },
  {
   "cell_type": "code",
   "execution_count": null,
   "id": "64bc9004-8578-4c9b-b14b-3a3f87daa7ba",
   "metadata": {},
   "outputs": [],
   "source": [
    "customers.rename(columns = {'Age' : 'age'}, inplace = True)"
   ]
  },
  {
   "cell_type": "code",
   "execution_count": null,
   "id": "84205dd0-4c69-4608-ab5a-c2661b4197e8",
   "metadata": {},
   "outputs": [],
   "source": [
    "customers.rename(columns = {'STATE' : 'state'}, inplace = True)"
   ]
  },
  {
   "cell_type": "code",
   "execution_count": null,
   "id": "06ea787a-cd54-4f29-8faa-53fcbb727d57",
   "metadata": {},
   "outputs": [],
   "source": [
    "customers.rename(columns = {'fam_status' : 'marital_status'}, inplace = True)"
   ]
  },
  {
   "cell_type": "code",
   "execution_count": null,
   "id": "4f0e6966-51ef-4374-b793-667cad87f5ea",
   "metadata": {},
   "outputs": [],
   "source": [
    "# Check columns\n",
    "customers.columns"
   ]
  },
  {
   "cell_type": "code",
   "execution_count": null,
   "id": "ce0601d1-b1ac-4d91-86ab-71745f1d2ed4",
   "metadata": {},
   "outputs": [],
   "source": [
    "# The columns have been successfully renamed and are now uniform and clear"
   ]
  },
  {
   "cell_type": "code",
   "execution_count": null,
   "id": "600c7fde-1c3d-4475-bdde-62ce5d7af69f",
   "metadata": {},
   "outputs": [],
   "source": [
    "customers.head(5)"
   ]
  },
  {
   "cell_type": "code",
   "execution_count": null,
   "id": "3260466d-591b-41b6-81f2-0bcba074426f",
   "metadata": {},
   "outputs": [],
   "source": [
    "# In terms of dropping columns, I think analysis for each of these columns is possible and effective"
   ]
  },
  {
   "cell_type": "markdown",
   "id": "d804618b-eb8d-4910-8e34-a8344a7827c5",
   "metadata": {},
   "source": [
    "### 05. Complete the fundamental data quality and consistency checks"
   ]
  },
  {
   "cell_type": "code",
   "execution_count": null,
   "id": "37e1359b-9ca4-489c-b320-1d3f4a040e63",
   "metadata": {},
   "outputs": [],
   "source": [
    "# Address data-types and potential mixed data-types in the dataframe\n",
    "customers.dtypes"
   ]
  },
  {
   "cell_type": "code",
   "execution_count": null,
   "id": "c6c80dba-e181-43a6-af13-e09865cea0cb",
   "metadata": {},
   "outputs": [],
   "source": [
    "# Checking for mixed data-types in each column\n",
    "for col in customers.columns.tolist():\n",
    "  weird = (customers[[col]].map(type) != customers[[col]].iloc[0].apply(type)).any(axis = 1)\n",
    "  if len (customers[weird]) > 0:\n",
    "    print (col)"
   ]
  },
  {
   "cell_type": "code",
   "execution_count": null,
   "id": "121e72b1-3823-4fe7-95d2-6eb3981da0a1",
   "metadata": {},
   "outputs": [],
   "source": [
    "# The output revealed that the 'first_name' column has mixed data-types that need to be addressed\n",
    "customers['first_name'] = customers['first_name'].astype('str')"
   ]
  },
  {
   "cell_type": "code",
   "execution_count": null,
   "id": "e38d74d9-9aad-4e9c-b4b8-1fbf2678c25f",
   "metadata": {},
   "outputs": [],
   "source": [
    "# The 'user_id' column, while not containing mixed data-types, is still improperly listed as an integer\n",
    "customers['user_id'] = customers['user_id'].astype('str')"
   ]
  },
  {
   "cell_type": "code",
   "execution_count": null,
   "id": "200c2123-1658-43f9-8b86-0234715dde23",
   "metadata": {},
   "outputs": [],
   "source": [
    "# Re-check the data-types in the data frame and for mixed data-types\n",
    "customers.dtypes"
   ]
  },
  {
   "cell_type": "code",
   "execution_count": null,
   "id": "b85a8355-8dc6-4642-a93c-c728a1a983c7",
   "metadata": {},
   "outputs": [],
   "source": [
    "for col in customers.columns.tolist():\n",
    "  weird = (customers[[col]].map(type) != customers[[col]].iloc[0].apply(type)).any(axis = 1)\n",
    "  if len (customers[weird]) > 0:\n",
    "    print (col)"
   ]
  },
  {
   "cell_type": "code",
   "execution_count": null,
   "id": "cab1c335-f74a-45de-8314-5a99f1648360",
   "metadata": {},
   "outputs": [],
   "source": [
    "# Now all columns are the appropriate data-types and no mixed data-types are present in any columns"
   ]
  },
  {
   "cell_type": "code",
   "execution_count": null,
   "id": "86625ada-e5f0-45d0-a780-0b3971803bda",
   "metadata": {},
   "outputs": [],
   "source": [
    "# Check for missing data\n",
    "customers.isnull().sum()"
   ]
  },
  {
   "cell_type": "code",
   "execution_count": null,
   "id": "c8f91db7-b296-4bfb-8209-4b9e3587a4c1",
   "metadata": {},
   "outputs": [],
   "source": [
    "# Check for full-duplicates\n",
    "customers_dups = customers[customers.duplicated()]"
   ]
  },
  {
   "cell_type": "code",
   "execution_count": null,
   "id": "40462172-6918-4adb-bce9-85e8d4da2aa0",
   "metadata": {},
   "outputs": [],
   "source": [
    "customers_dups"
   ]
  },
  {
   "cell_type": "code",
   "execution_count": null,
   "id": "90851631-de6c-4d1f-9f3d-20385f92153f",
   "metadata": {},
   "outputs": [],
   "source": [
    "# Perform a descriptive statistic check to ensure everything looks normal\n",
    "customers.describe()"
   ]
  },
  {
   "cell_type": "markdown",
   "id": "167f2f7a-0603-4683-847f-c5c17b6bf76f",
   "metadata": {},
   "source": [
    "## There's nothing unusual present in the descriptive statistics. "
   ]
  },
  {
   "cell_type": "markdown",
   "id": "7b516ead-c506-4c68-accb-563d1b6eb280",
   "metadata": {},
   "source": [
    "### 06. Combine your customer data with the rest of your prepared Instacart data "
   ]
  },
  {
   "cell_type": "code",
   "execution_count": null,
   "id": "3b0f3068-636a-4810-b3aa-bc8a7b263efc",
   "metadata": {},
   "outputs": [],
   "source": [
    "# Import the rest of the prepared Instacart data\n",
    "orders_products = pd.read_pickle(os.path.join(path, '02 Data', 'Prepared Data', 'orders_products_combined_merged_new_variables_derived_aggregated.pkl'))"
   ]
  },
  {
   "cell_type": "code",
   "execution_count": null,
   "id": "edcf9ee2-26cd-4994-9c43-3e07e1d6e829",
   "metadata": {},
   "outputs": [],
   "source": [
    "# Check the shape of the newly imported dataframe\n",
    "orders_products.shape"
   ]
  },
  {
   "cell_type": "code",
   "execution_count": null,
   "id": "a6498ded-1c94-4f79-8263-0012e52f96b7",
   "metadata": {},
   "outputs": [],
   "source": [
    "# Check the shape of the customers dataframe\n",
    "customers.shape"
   ]
  },
  {
   "cell_type": "code",
   "execution_count": null,
   "id": "638fb246-b951-41be-a85b-535a745a2dd7",
   "metadata": {},
   "outputs": [],
   "source": [
    "# Identify a shared column\n",
    "orders_products.head(5)"
   ]
  },
  {
   "cell_type": "code",
   "execution_count": null,
   "id": "0cac73e5-ac9b-4a04-bb4c-a91699b7044d",
   "metadata": {},
   "outputs": [],
   "source": [
    "customers.head(5)"
   ]
  },
  {
   "cell_type": "code",
   "execution_count": null,
   "id": "d2c63e20-b0c8-4205-89e4-64c27121f4d4",
   "metadata": {},
   "outputs": [],
   "source": [
    "# Both dataframes share the 'user_id' column\n",
    "# Check data-type of shared column\n",
    "orders_products.dtypes['user_id']"
   ]
  },
  {
   "cell_type": "code",
   "execution_count": null,
   "id": "ebc79779-6591-44d3-9e96-d4f4b0473b88",
   "metadata": {},
   "outputs": [],
   "source": [
    "customers.dtypes['user_id']"
   ]
  },
  {
   "cell_type": "code",
   "execution_count": null,
   "id": "ed728e65-4bed-40e5-ad1f-8478f83357d1",
   "metadata": {},
   "outputs": [],
   "source": [
    "# Make sure both key columns are the same data type\n",
    "orders_products['user_id'] = orders_products['user_id'].astype('str')"
   ]
  },
  {
   "cell_type": "code",
   "execution_count": null,
   "id": "314a03a5-e2a6-462d-a52e-306d9652cb5c",
   "metadata": {},
   "outputs": [],
   "source": [
    "orders_products.dtypes['user_id']"
   ]
  },
  {
   "cell_type": "code",
   "execution_count": null,
   "id": "eaafb764-af08-4939-b9ef-0e81abf2ad55",
   "metadata": {},
   "outputs": [],
   "source": [
    "# The key columns now have matching data-types"
   ]
  },
  {
   "cell_type": "code",
   "execution_count": null,
   "id": "58697374-bb17-4c20-8f3d-dd3e35b81bc5",
   "metadata": {},
   "outputs": [],
   "source": [
    "# Drop the existing '_merge' column from previous exercises\n",
    "orders_products = orders_products.drop(columns=['_merge'])"
   ]
  },
  {
   "cell_type": "code",
   "execution_count": null,
   "id": "bca04b0c-499b-4dc5-b4ef-a6ff5ed89ba3",
   "metadata": {},
   "outputs": [],
   "source": [
    "# Merge the two dataframes using the column 'user_id' as the shared column with the default join (inner)"
   ]
  },
  {
   "cell_type": "code",
   "execution_count": null,
   "id": "b1b53438-1bf8-4012-ae74-2a373092ed8e",
   "metadata": {},
   "outputs": [],
   "source": [
    "custs_ords_prods = orders_products.merge(customers, on = 'user_id', indicator = True)"
   ]
  },
  {
   "cell_type": "code",
   "execution_count": null,
   "id": "f9676b02-6b15-472d-8385-b19b07cf5301",
   "metadata": {},
   "outputs": [],
   "source": [
    "# This new dataframe combines both the customers and orders_products dataframes and uses the 'user_id' column as its key "
   ]
  },
  {
   "cell_type": "code",
   "execution_count": null,
   "id": "d512d5e8-a285-469b-a1d8-71c6cf69dae1",
   "metadata": {},
   "outputs": [],
   "source": [
    "# Check shape of newly merged dataframe\n",
    "custs_ords_prods.shape"
   ]
  },
  {
   "cell_type": "code",
   "execution_count": null,
   "id": "8e5ff5ef-0f27-4d6f-afce-041fc481bf6f",
   "metadata": {},
   "outputs": [],
   "source": [
    "custs_ords_prods.head(5)"
   ]
  },
  {
   "cell_type": "code",
   "execution_count": null,
   "id": "3f46e93e-128e-4256-b42a-50cdaf408ec3",
   "metadata": {},
   "outputs": [],
   "source": [
    "# Check inner join value counts\n",
    "custs_ords_prods['_merge'].value_counts()"
   ]
  },
  {
   "cell_type": "code",
   "execution_count": null,
   "id": "e32062a7-433e-4728-8237-cfcfb8612a5f",
   "metadata": {},
   "outputs": [],
   "source": [
    "# Check data-types\n",
    "custs_ords_prods.dtypes"
   ]
  },
  {
   "cell_type": "code",
   "execution_count": null,
   "id": "fbe4fc77-2120-44dc-8b93-9d7b8cbf4498",
   "metadata": {},
   "outputs": [],
   "source": [
    "# The 'order_id' column also has the wrong data type, so let's fix it\n",
    "custs_ords_prods['order_id'] = custs_ords_prods['order_id'].astype('str')"
   ]
  },
  {
   "cell_type": "code",
   "execution_count": null,
   "id": "230bbd2d-d4bb-4df9-92ca-8a013e91921a",
   "metadata": {},
   "outputs": [],
   "source": [
    "custs_ords_prods.dtypes"
   ]
  },
  {
   "cell_type": "markdown",
   "id": "67fae8e0-a1ab-4e05-aa95-0813696d3fbf",
   "metadata": {},
   "source": [
    "### 08. Export this new dataframe as a pickle file so you can continue to use it in the second part of this task"
   ]
  },
  {
   "cell_type": "code",
   "execution_count": null,
   "id": "107e38bf-638d-487c-8047-d7c5f09544d2",
   "metadata": {},
   "outputs": [],
   "source": [
    "custs_ords_prods.to_pickle(os.path.join(path, '02 Data','Prepared Data', 'orders_products_customers_merged.pkl'))"
   ]
  },
  {
   "cell_type": "code",
   "execution_count": null,
   "id": "3b942ae4-c8e4-462f-a617-d3e514ad8f97",
   "metadata": {},
   "outputs": [],
   "source": []
  }
 ],
 "metadata": {
  "kernelspec": {
   "display_name": "Python 3 (ipykernel)",
   "language": "python",
   "name": "python3"
  },
  "language_info": {
   "codemirror_mode": {
    "name": "ipython",
    "version": 3
   },
   "file_extension": ".py",
   "mimetype": "text/x-python",
   "name": "python",
   "nbconvert_exporter": "python",
   "pygments_lexer": "ipython3",
   "version": "3.11.7"
  }
 },
 "nbformat": 4,
 "nbformat_minor": 5
}
